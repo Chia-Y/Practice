{
 "cells": [
  {
   "cell_type": "code",
   "execution_count": 1,
   "id": "457c59c8",
   "metadata": {},
   "outputs": [],
   "source": [
    "import numpy as np\n",
    "import pandas as pd\n",
    "import matplotlib.pyplot as plt\n",
    "import numpy as np\n",
    "from sklearn.model_selection import train_test_split\n",
    "from sklearn.tree import DecisionTreeClassifier\n",
    "from sklearn.metrics import roc_auc_score\n",
    "\n",
    "df=pd.read_csv('./marketing_campaign.csv',sep='\\t')\n",
    "\n",
    "df=df.dropna()\n",
    "    \n",
    "df2 = df.drop(columns=['ID', 'Dt_Customer', 'Education', 'Marital_Status', 'Response'], inplace = False)\n",
    "\n",
    "X=df2\n",
    "y=df.Response"
   ]
  },
  {
   "cell_type": "code",
   "execution_count": 10,
   "id": "90d7dfa3",
   "metadata": {},
   "outputs": [
    {
     "data": {
      "text/plain": [
       "0.6962898550724638"
      ]
     },
     "execution_count": 10,
     "metadata": {},
     "output_type": "execute_result"
    }
   ],
   "source": [
    "X_train, X_test, y_train, y_test = train_test_split(X, y, test_size=0.3, random_state = 4)\n",
    "\n",
    "model = DecisionTreeClassifier(random_state = 4)\n",
    "model.fit(X_train, y_train)\n",
    "\n",
    "y_pred = model.predict_proba(X_test)[:,1]\n",
    "\n",
    "auc = roc_auc_score(y_test, y_pred)\n",
    "auc"
   ]
  }
 ],
 "metadata": {
  "kernelspec": {
   "display_name": "Python 3 (ipykernel)",
   "language": "python",
   "name": "python3"
  },
  "language_info": {
   "codemirror_mode": {
    "name": "ipython",
    "version": 3
   },
   "file_extension": ".py",
   "mimetype": "text/x-python",
   "name": "python",
   "nbconvert_exporter": "python",
   "pygments_lexer": "ipython3",
   "version": "3.9.13"
  }
 },
 "nbformat": 4,
 "nbformat_minor": 5
}
