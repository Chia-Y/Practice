{
 "cells": [
  {
   "cell_type": "code",
   "execution_count": null,
   "id": "2bb9de1e",
   "metadata": {},
   "outputs": [],
   "source": [
    "爬蟲--抓一張圖片"
   ]
  },
  {
   "cell_type": "code",
   "execution_count": null,
   "id": "2653763b",
   "metadata": {},
   "outputs": [],
   "source": [
    "import requests\n",
    "from bs4 import BeautifulSoup\n",
    "\n",
    "converse = requests.get(\"https://www.converse.com.tw/products/women+sneakers/\")\n",
    "\n",
    "# 印出HTML\n",
    "# print(converse.text)\n",
    "\n",
    "soup = BeautifulSoup(converse.text,\"html.parser\")\n",
    "# print(soup) 可以印出檢查"
   ]
  },
  {
   "cell_type": "code",
   "execution_count": null,
   "id": "8ca01112",
   "metadata": {},
   "outputs": [],
   "source": [
    "# soup.find_all：搜尋當前tag的所有tag子節點,並判斷是否符合過濾的條件\n",
    "\n",
    "img_src = []\n",
    "# 寫法('img',{'class':'class name'})，class name裡的空格保留\n",
    "for i in soup.find_all('img', {'class':'attachment-shop_catalog size-shop_catalog wp-post-image'}):\n",
    "    print(i['src'])"
   ]
  },
  {
   "cell_type": "code",
   "execution_count": null,
   "id": "b9086772",
   "metadata": {},
   "outputs": [],
   "source": [
    "# soup.select：使用CSS的語法找到tag，通過tag標籤逐層找標籤\n",
    "\n",
    "img_src = []\n",
    "# 寫法('img.class name')，如果是class name--空格改為.  如果是id--空格改為#\n",
    "for i in soup.select('img.attachment-shop_catalog.size-shop_catalog.wp-post-image'):\n",
    "    img_src.append(i['src'])\n",
    "img_src"
   ]
  },
  {
   "cell_type": "code",
   "execution_count": null,
   "id": "2ef2eefa",
   "metadata": {},
   "outputs": [],
   "source": [
    "# 利用get抓一張圖片下來，變數名稱為first_imgs\n",
    "first_imgs = requests.get('https://www.converse.com.tw/wp-content/uploads/2021/04/171121C230_1L_NEW-240x158.png')\n",
    "\n",
    "# 抓下來的圖片轉為二進制方式\n",
    "first_imgs_content = first_imgs.content\n",
    "# print(first_imgs_content)\n",
    "\n",
    "# 開啟資料夾，將圖片的二進位寫進去\n",
    "imgs_out = open('imgs/test1.png', 'wb') # imgs是存取圖片的資料夾名稱，imgs001.png是預存檔的圖片名稱，w可寫入，b二進位開檔\n",
    "imgs_out.write(first_imgs_content) # 將get到的圖片存進imgs001.png(下載)\n",
    "imgs_out.close() #關閉檔案"
   ]
  },
  {
   "cell_type": "code",
   "execution_count": null,
   "id": "2796e93e",
   "metadata": {},
   "outputs": [],
   "source": []
  },
  {
   "cell_type": "code",
   "execution_count": null,
   "id": "ab382000",
   "metadata": {},
   "outputs": [],
   "source": [
    "爬蟲--抓一頁中所有圖片"
   ]
  },
  {
   "cell_type": "code",
   "execution_count": null,
   "id": "10fa4729",
   "metadata": {},
   "outputs": [],
   "source": [
    "import requests\n",
    "from bs4 import BeautifulSoup\n",
    "\n",
    "reebok = requests.get('https://www.reebok.com.tw/product/list?tags=RBKAA02-RBKAA03-RBKAC01')\n",
    "\n",
    "soup = BeautifulSoup(reebok.text,'html.parser')\n",
    "# print(soup)"
   ]
  },
  {
   "cell_type": "code",
   "execution_count": null,
   "id": "8b831748",
   "metadata": {},
   "outputs": [],
   "source": [
    "img_list = []\n",
    "for i in soup.select('img.lazy'):\n",
    "    img_list.append(i['data-original'])\n",
    "print(img_list)"
   ]
  },
  {
   "cell_type": "code",
   "execution_count": null,
   "id": "a38c6730",
   "metadata": {},
   "outputs": [],
   "source": [
    "num = 0\n",
    "for i in img_list:\n",
    "    imgGet = requests.get(i)\n",
    "    img_content = imgGet.content\n",
    "    img_out = open(f'imgs/{num}.png', 'wb')\n",
    "    img_out.write(img_content)\n",
    "    img_out.close()\n",
    "    num = num + 1"
   ]
  },
  {
   "cell_type": "code",
   "execution_count": null,
   "id": "98507d5a",
   "metadata": {},
   "outputs": [],
   "source": []
  },
  {
   "cell_type": "code",
   "execution_count": null,
   "id": "72bb63d3",
   "metadata": {},
   "outputs": [],
   "source": [
    "爬蟲換頁抓圖(for迴圈)"
   ]
  },
  {
   "cell_type": "code",
   "execution_count": null,
   "id": "102899cf",
   "metadata": {},
   "outputs": [],
   "source": [
    "# 全寫進一個for迴圈\n",
    "import requests\n",
    "from bs4 import BeautifulSoup\n",
    "\n",
    "num = 0\n",
    "for x in range(1,3):\n",
    "    reebok = requests.get(f'https://www.reebok.com.tw/product/list?tags=RBKAA02-RBKAA03-RBKAC01&sortType=3&page={x}&pageCount=48&keywords=&priceFrom=585&priceTo=4365')\n",
    "    soup = BeautifulSoup(reebok.text, 'html.parser')\n",
    "    for i in soup.select('img.lazy'):\n",
    "        imgGet = requests.get(i['data-original'])\n",
    "        img_content = imgGet.content\n",
    "        img_out = open(f'imgs/{num}.png', 'wb')\n",
    "        img_out.write(img_content)\n",
    "        img_out.close()\n",
    "        num = num + 1"
   ]
  },
  {
   "cell_type": "code",
   "execution_count": null,
   "id": "b7295dc5",
   "metadata": {},
   "outputs": [],
   "source": []
  },
  {
   "cell_type": "code",
   "execution_count": null,
   "id": "68b0631e",
   "metadata": {},
   "outputs": [],
   "source": [
    "# 因為無法透過按鈕換頁，先用soup.select看共幾個分頁\n",
    "soup.select(\"a.page-arrow.arrow-right\")"
   ]
  },
  {
   "cell_type": "code",
   "execution_count": null,
   "id": "d97d4cf2",
   "metadata": {},
   "outputs": [],
   "source": [
    "# 複製兩個分頁的網址觀察差異\n",
    "https://www.reebok.com.tw/product/list?tags=RBKAA02-RBKAA03-RBKAC01&sortType=3&page=1&pageCount=48&keywords=&priceFrom=585&priceTo=4365    \n",
    "https://www.reebok.com.tw/product/list?tags=RBKAA02-RBKAA03-RBKAC01&sortType=3&page=2&pageCount=48&keywords=&priceFrom=585&priceTo=4365"
   ]
  },
  {
   "cell_type": "code",
   "execution_count": null,
   "id": "a1b1d92d",
   "metadata": {},
   "outputs": [],
   "source": [
    "# 建立空list把兩個分頁網址放進list\n",
    "pages_list = []\n",
    "for x in range(1,3):\n",
    "    pages_list.append(f'https://www.reebok.com.tw/product/list?tags=RBKAA02-RBKAA03-RBKAC01&sortType=3&page={x}&pageCount=48&keywords=&priceFrom=585&priceTo=4365')\n",
    "print(pages_list)"
   ]
  },
  {
   "cell_type": "code",
   "execution_count": null,
   "id": "01d58c1c",
   "metadata": {},
   "outputs": [],
   "source": [
    "img_list = []\n",
    "for i in soup.select('img.lazy'):\n",
    "    img_list.append(i['data-original'])\n",
    "    \n",
    "# 檢查共有多少圖片\n",
    "len(img_list)"
   ]
  },
  {
   "cell_type": "code",
   "execution_count": 13,
   "id": "10ee1190",
   "metadata": {},
   "outputs": [],
   "source": [
    "# 錯誤寫法\n",
    "\n",
    "import requests\n",
    "from bs4 import BeautifulSoup\n",
    "\n",
    "# pages_list = []\n",
    "# img_list = []\n",
    "# 不用建立頁面跟圖片的空list，直接在迴圈裡執行就好，不需要透過list列印檢查\n",
    "\n",
    "num = 0\n",
    "for x in range(1,3):\n",
    "# pages_list.append(f'https://www.reebok.com.tw/product/list?tags=RBKAA02-RBKAA03-RBKAC01&sortType=3&page={x}&pageCount=48&keywords=&priceFrom=585&priceTo=4365')\n",
    "# 不用建立list就不需要append進去\n",
    "# for y in pages_list:\n",
    "    reebok = requests.get(y)\n",
    "    soup = BeautifulSoup(reebok.text, 'html.parser')\n",
    "    for i in soup.select('img.lazy'):\n",
    "#     img_list.append(i['data-original'])\n",
    "#     for z in img_list:\n",
    "        imgGet = requests.get(z)\n",
    "        img_content = imgGet.content\n",
    "        img_out = open(f'imgs/{num}.png', 'wb')\n",
    "        img_out.write(img_content)\n",
    "        img_out.close()\n",
    "        num = num + 1"
   ]
  }
 ],
 "metadata": {
  "kernelspec": {
   "display_name": "Python 3 (ipykernel)",
   "language": "python",
   "name": "python3"
  },
  "language_info": {
   "codemirror_mode": {
    "name": "ipython",
    "version": 3
   },
   "file_extension": ".py",
   "mimetype": "text/x-python",
   "name": "python",
   "nbconvert_exporter": "python",
   "pygments_lexer": "ipython3",
   "version": "3.9.13"
  }
 },
 "nbformat": 4,
 "nbformat_minor": 5
}
